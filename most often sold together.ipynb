{
 "cells": [
  {
   "cell_type": "code",
   "execution_count": 1,
   "metadata": {},
   "outputs": [],
   "source": [
    "import numpy as np\n",
    "# import random\n",
    "# from sklearn.model_selection import train_test_split\n",
    "# from sklearn.feature_extraction.text import CountVectorizer, TfidfVectorizer\n",
    "# from sklearn.metrics import f1_score\n",
    "# from sklearn import linear_model\n",
    "import pandas as pd\n",
    "from matplotlib import pyplot as plt\n",
    "\n",
    "df17 = pd.read_excel('2017.xlsx', index_col=None, skiprows = range(0,2))\n",
    "df18 = pd.read_excel('2018.xlsx', index_col=None, skiprows = range(0,2))\n",
    "df19 = pd.read_excel('2019.xlsx', index_col=None, skiprows = range(0,2))\n",
    "df20 = pd.read_excel('2020.xlsx', index_col=None, skiprows = range(0,2))\n"
   ]
  },
  {
   "cell_type": "code",
   "execution_count": 2,
   "metadata": {},
   "outputs": [],
   "source": [
    "from itertools import combinations\n",
    "from collections import Counter"
   ]
  },
  {
   "cell_type": "code",
   "execution_count": 3,
   "metadata": {},
   "outputs": [],
   "source": [
    "df17.dropna(how='any')\n",
    "df17.drop(0)\n",
    "df17['기능성원료'] = df17['기능성원료'].astype(str)\n",
    "df17 = df17.loc[~df17['기능성원료'].str.contains('비타민',regex = True)]\n",
    "df17 = df17.loc[~df17['기능성원료'].str.contains('프로폴리스',regex = True)]\n",
    "df17 = df17.loc[~df17['기능성원료'].str.contains('NAG',regex = True)]\n",
    "df17 = df17.replace('홍삼,홍삼','홍삼')"
   ]
  },
  {
   "cell_type": "code",
   "execution_count": 4,
   "metadata": {},
   "outputs": [],
   "source": [
    "df18.dropna(how='any')\n",
    "df18.drop(0)\n",
    "df18['기능성원료'] = df18['기능성원료'].astype(str)\n",
    "df18 = df18.loc[~df18['기능성원료'].str.contains('비타민',regex = True)]\n",
    "df18 = df18.loc[~df18['기능성원료'].str.contains('프로폴리스',regex = True)]\n",
    "df18 = df18.loc[~df18['기능성원료'].str.contains('NAG',regex = True)]\n",
    "df18 = df18.replace('홍삼,홍삼','홍삼')"
   ]
  },
  {
   "cell_type": "code",
   "execution_count": 5,
   "metadata": {},
   "outputs": [],
   "source": [
    "df19.dropna(how='any')\n",
    "df19.drop(0)\n",
    "df19['기능성원료'] = df19['기능성원료'].astype(str)\n",
    "df19 = df19.loc[~df19['기능성원료'].str.contains('비타민',regex = True)]\n",
    "df19 = df19.loc[~df19['기능성원료'].str.contains('프로폴리스',regex = True)]\n",
    "df19 = df19.loc[~df19['기능성원료'].str.contains('NAG',regex = True)]\n",
    "df19 = df19.replace('홍삼,홍삼','홍삼')"
   ]
  },
  {
   "cell_type": "code",
   "execution_count": 6,
   "metadata": {},
   "outputs": [],
   "source": [
    "df20.dropna(how='any')\n",
    "df20.drop(0)\n",
    "df20['기능성원료'] = df20['기능성원료'].astype(str)\n",
    "df20 = df20.loc[~df20['기능성원료'].str.contains('비타민',regex = True)]\n",
    "df20 = df20.loc[~df20['기능성원료'].str.contains('프로폴리스',regex = True)]\n",
    "df20 = df20.loc[~df20['기능성원료'].str.contains('NAG',regex = True)]\n",
    "df20 = df20.replace('홍삼,홍삼','홍삼')"
   ]
  },
  {
   "cell_type": "code",
   "execution_count": 7,
   "metadata": {},
   "outputs": [],
   "source": [
    "count = Counter()\n",
    "\n",
    "for row in df17['기능성원료']:\n",
    "    row_list = row.split(',')\n",
    "    count.update(Counter(combinations(row_list,2)))\n",
    "    \n",
    "df2017 = count.most_common(20)\n",
    "df2017 = pd.DataFrame(df2017, columns=['2017', 'count'])"
   ]
  },
  {
   "cell_type": "code",
   "execution_count": 8,
   "metadata": {
    "scrolled": true
   },
   "outputs": [],
   "source": [
    "count = Counter()\n",
    "\n",
    "for row in df18['기능성원료']:\n",
    "    row_list = row.split(',')\n",
    "    count.update(Counter(combinations(row_list,2)))\n",
    "    \n",
    "df2018 = count.most_common(20)\n",
    "df2018 = pd.DataFrame(df2018, columns=['2018', 'count'])\n"
   ]
  },
  {
   "cell_type": "code",
   "execution_count": 9,
   "metadata": {},
   "outputs": [],
   "source": [
    "count = Counter()\n",
    "\n",
    "for row in df19['기능성원료']:\n",
    "    row_list = row.split(',')\n",
    "    count.update(Counter(combinations(row_list,2)))\n",
    "    \n",
    "df2019 = count.most_common(20)\n",
    "df2019 = pd.DataFrame(df2019, columns=['2019', 'count'])\n"
   ]
  },
  {
   "cell_type": "code",
   "execution_count": 10,
   "metadata": {},
   "outputs": [],
   "source": [
    "count = Counter()\n",
    "\n",
    "for row in df20['기능성원료']:\n",
    "    row_list = row.split(',')\n",
    "    count.update(Counter(combinations(row_list,2)))\n",
    "    \n",
    "df2020 = count.most_common(20)\n",
    "df2020 = pd.DataFrame(df2020, columns=['2020', 'count'])\n"
   ]
  },
  {
   "cell_type": "code",
   "execution_count": 11,
   "metadata": {},
   "outputs": [],
   "source": [
    "fdf = pd.DataFrame()\n",
    "fdf['2017'] = df2017['2017']\n",
    "fdf['2018'] = df2018['2018']\n",
    "fdf['2019'] = df2019['2019']\n",
    "fdf['2020'] = df2020['2020']\n",
    "fdf.index = fdf.index + 1\n"
   ]
  },
  {
   "cell_type": "code",
   "execution_count": null,
   "metadata": {},
   "outputs": [],
   "source": []
  },
  {
   "cell_type": "code",
   "execution_count": null,
   "metadata": {},
   "outputs": [],
   "source": []
  }
 ],
 "metadata": {
  "kernelspec": {
   "display_name": "Python 3",
   "language": "python",
   "name": "python3"
  },
  "language_info": {
   "codemirror_mode": {
    "name": "ipython",
    "version": 3
   },
   "file_extension": ".py",
   "mimetype": "text/x-python",
   "name": "python",
   "nbconvert_exporter": "python",
   "pygments_lexer": "ipython3",
   "version": "3.7.6"
  }
 },
 "nbformat": 4,
 "nbformat_minor": 4
}
