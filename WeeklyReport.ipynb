{
 "cells": [
  {
   "cell_type": "markdown",
   "metadata": {},
   "source": [
    "## This week"
   ]
  },
  {
   "cell_type": "code",
   "execution_count": 1,
   "metadata": {},
   "outputs": [],
   "source": [
    "# 읽기\n",
    "import pandas as pd\n",
    "df = pd.read_excel('이번주.xlsx',skiprows = range(0,2))\n",
    "df = df.drop(0)\n",
    "# 재심의 제거\n",
    "df = df.dropna(subset=['결제금액'])\n",
    "# 반려수 계산 + 결과통보된것만 남겨놓기 \n",
    "rejected = len(df.loc[df['심의상태']=='반려'])\n",
    "df = df.loc[df['심의상태']=='결과통보']\n",
    "\n",
    "### 이번 주 금액\n",
    "price = df.groupby(['광고매체']).sum()\n",
    "pr = price.T\n",
    "pr = pr/1000\n",
    "pr = pr.astype('int32')\n",
    "\n",
    "##### 각 항목들 수 \n",
    "\n",
    "media = [\"패키지(표시포함)\",\"인쇄물\", \"인터넷\", \"신문\", \"잡지\", \"기타(QR 코드 등)\", \"홈쇼핑\", \"유선방송(TV, 케이블 TV)\", \"라디오\", \"동영상\"]\n",
    "media_detail = [\"pack\", \"printouts\", \"internet\", \"newsp\", \"magaz\", \"others\", \"home\", \"tv\", \"radio\", \"youtube\"]\n",
    "\n",
    "p_dict={}\n",
    "for l in range(len(media)): \n",
    "    p_dict[media_detail[l]] = len(df[(df[\"광고매체\"]== media[l] ) & (df[\"심의결과\"]=='승인') ])\n",
    "      \n",
    "c_dict={}\n",
    "for m in range(len(media)): \n",
    "    c_dict[media_detail[m]] = len(df[(df[\"광고매체\"]== media[m] ) & (df[\"심의결과\"]=='수정적합') ])\n",
    "    \n",
    "f_dict={}\n",
    "for n in range(len(media)): \n",
    "    f_dict[media_detail[n]] = len(df[(df[\"광고매체\"]== media[n] ) & (df[\"심의결과\"]=='기각') ])\n"
   ]
  },
  {
   "cell_type": "code",
   "execution_count": 3,
   "metadata": {
    "scrolled": false
   },
   "outputs": [],
   "source": [
    "\n",
    "# 이번주 결과나간 수 세기\n",
    "report = pd.DataFrame(\n",
    "    {\" \" : ['적합', '수정적합', '부적합', '개수총합'],\n",
    " \n",
    "     \"패키지(표시포함)\" : [p_dict['pack'], c_dict['pack'], f_dict['pack'], 'n'],\n",
    "     \"인쇄물\" : [p_dict['printouts'], c_dict['printouts'], f_dict['printouts'], 'n'],\n",
    "     \"인터넷\" : [p_dict['internet'], c_dict['internet'], f_dict['internet'],'n'],\n",
    "     \"신문\" : [p_dict['newsp'], c_dict['newsp'], f_dict['newsp'], 'n'],\n",
    "     \"잡지\" : [p_dict['magaz'], c_dict['magaz'], f_dict['magaz'], 'n'],\n",
    "     \"기타(QR 코드 등)\" : [p_dict['others'], c_dict['others'], f_dict['others'], 'n'],\n",
    "     \"홈쇼핑\" : [p_dict['home'], c_dict['home'], f_dict['home'], 'n'],\n",
    "     \"유선방송(TV, 케이블 TV)\" : [p_dict['tv'], c_dict['tv'], f_dict['tv'], 'n'],\n",
    "     \"라디오\" : [p_dict['radio'], c_dict['radio'], f_dict['radio'], 'n'],\n",
    "     \"동영상\" : [p_dict['youtube'], c_dict['youtube'], f_dict['youtube'], 'n'],\n",
    "     \"각각 합\" : ['n','n','n','n']\n",
    "    })\n",
    "    \n",
    "# 금액합 row merge               \n",
    "report.loc[4] = pr.loc['결제금액']\n",
    "report.iloc[4,0] = '금액합'\n",
    "\n",
    "# 각각 합 column \n",
    "for o in range(5):\n",
    "    report.iloc[o,11] = report.iloc[o, 1:11].sum(axis=0)\n",
    "\n",
    "# int -> str\n",
    "report = report.astype('str').replace('\\.0', '', regex=True)\n",
    "report = report.astype('str').replace('nan', '0', regex=True)\n",
    "\n",
    "# 개수총합 구하기\n",
    "for yy in range(11):\n",
    "    report.iloc[3,yy+1] = report.iloc[0:3,yy+1].astype('int32').sum()\n",
    "\n",
    "\n",
    "# print()\n",
    "# print(f'이번주 반려된 건: {rejected}') \n",
    "\n",
    "\n"
   ]
  },
  {
   "cell_type": "code",
   "execution_count": 4,
   "metadata": {
    "scrolled": true
   },
   "outputs": [],
   "source": [
    "##### 클립보드에 이번주 주간업무보고 복사하기 #####\n",
    "wk = report.T.reset_index(drop=True)\n",
    "wk = wk.drop([0,1,2],axis=1)\n",
    "wk = wk.drop([0],axis=0)\n",
    "wk.reset_index(drop=True)\n",
    "wk.to_clipboard(index=False, header=None)\n"
   ]
  },
  {
   "cell_type": "markdown",
   "metadata": {},
   "source": [
    "## Next week"
   ]
  },
  {
   "cell_type": "code",
   "execution_count": 5,
   "metadata": {},
   "outputs": [],
   "source": [
    "## 다음주 읽기 (재심의제외)\n",
    "import pandas as pd\n",
    "df2 = pd.read_excel('다음주.xlsx',skiprows = range(0,2))\n",
    "df2 = df2.drop(0)\n",
    "df2 = df2.dropna(subset=['결제금액'])\n",
    "\n",
    "\n",
    "## 다음주 각 항목들 수\n",
    "n_dict={}\n",
    "for q in range(len(media)): \n",
    "    n_dict[media_detail[q]] = len(df2[(df2[\"광고매체\"]== media[q] ) ])\n",
    "\n",
    "## 다음주 금액\n",
    "price2 = df2.groupby(['광고매체']).sum()\n"
   ]
  },
  {
   "cell_type": "code",
   "execution_count": 6,
   "metadata": {
    "scrolled": true
   },
   "outputs": [],
   "source": [
    "# 다음주 결과나간 수 세기\n",
    "report2 = pd.DataFrame(\n",
    "    {\" \" : ['수'],\n",
    "     \"패키지(표시포함)\" : n_dict['pack'],\n",
    "     \"인쇄물\" : n_dict['printouts'],\n",
    "     \"인터넷\" : n_dict['internet'],\n",
    "     \"신문\" : n_dict['newsp'],\n",
    "     \"잡지\" : n_dict['magaz'],\n",
    "     \"기타(QR 코드 등)\" : n_dict['others'],\n",
    "     \"홈쇼핑\" : n_dict['home'],\n",
    "     \"유선방송(TV, 케이블 TV)\" : n_dict['tv'],\n",
    "     \"라디오\" : n_dict['radio'],\n",
    "     \"동영상\" : n_dict['youtube'],\n",
    "         }\n",
    ")\n",
    "\n",
    "# 금액 merge\n",
    "\n",
    "report2.loc[1] = price2['결제금액']/1000\n",
    "report2.iloc[1,0] = '금액'\n",
    "\n",
    "\n",
    "# ->int\n",
    "report2 = report2.astype('str').replace('\\.0', '', regex=True)\n",
    "report2 = report2.astype('str').replace('nan', '0', regex=True)\n",
    "\n",
    "# 개수총합 구하기\n",
    "report2['합'] = report2.iloc[:,1:11].astype('int32').sum(axis=1)\n",
    "\n",
    "##### 클립보드에 이번주 주간업무보고 복사하기 #####\n",
    "\n",
    "wk2 = report2.T.reset_index(drop=True)\n",
    "wk2 = wk2.drop([0],axis=0)\n",
    "wk2.to_clipboard(index=False, header=None)\n",
    "\n"
   ]
  },
  {
   "cell_type": "markdown",
   "metadata": {},
   "source": [
    "## This month/year"
   ]
  },
  {
   "cell_type": "code",
   "execution_count": 7,
   "metadata": {
    "scrolled": true
   },
   "outputs": [],
   "source": [
    "# 읽기\n",
    "import pandas as pd\n",
    "df3 = pd.read_excel('여러달.xlsx',skiprows = range(0,2))\n",
    "df3 = df3.drop(0)\n",
    "\n",
    "# 반려수 계산 \n",
    "rejected = len(df3.loc[df3['심의상태']=='반려'])\n",
    "\n",
    "\n",
    "# 재심의 제거, 반려, 보류취소도 제거해야함, \n",
    "df3 = df3.dropna(subset=['결제금액'])\n",
    "df3 = df3[~(df3['심의상태']=='반려')]\n",
    "df3 = df3[~(df3['심의상태']=='보류취소')]\n",
    "\n",
    "\n",
    "## 각 항목들 수\n",
    "m_dict={}\n",
    "for r in range(len(media)): \n",
    "    m_dict[media_detail[r]] = len(df3[(df3[\"광고매체\"]== media[r] ) ])\n",
    "\n",
    "## 금액\n",
    "price3 = df3.groupby(['광고매체']).sum()\n"
   ]
  },
  {
   "cell_type": "code",
   "execution_count": 8,
   "metadata": {
    "scrolled": true
   },
   "outputs": [],
   "source": [
    "# 결과나간 수 세기\n",
    "report3 = pd.DataFrame(\n",
    "    {\" \" : ['수'],\n",
    "     \"패키지(표시포함)\" : m_dict['pack'],\n",
    "     \"인쇄물\" : m_dict['printouts'],\n",
    "     \"인터넷\" : m_dict['internet'],\n",
    "     \"신문\" : m_dict['newsp'],\n",
    "     \"잡지\" : m_dict['magaz'],\n",
    "     \"기타(QR 코드 등)\" : m_dict['others'],\n",
    "     \"홈쇼핑\" : m_dict['home'],\n",
    "     \"유선방송(TV, 케이블 TV)\" : m_dict['tv'],\n",
    "     \"라디오\" : m_dict['radio'],\n",
    "     \"동영상\" : m_dict['youtube'],\n",
    "         }\n",
    ")\n",
    "\n",
    "# 금액 merge\n",
    "\n",
    "report3.loc[1] = price3['결제금액']/1000\n",
    "report3.iloc[1,0] = '금액'\n",
    "\n",
    "\n",
    "# ->int\n",
    "report3 = report3.astype('str').replace('\\.0', '', regex=True)\n",
    "report3 = report3.astype('str').replace('nan', '0', regex=True)\n",
    "\n",
    "# 개수총합 구하기\n",
    "report3['합'] = report3.iloc[:,1:11].astype('int32').sum(axis=1)\n",
    "\n",
    "##### 클립보드에 주간업무보고 복사하기 #####\n",
    "\n",
    "wk3 = report3.T.reset_index(drop=True)\n",
    "wk3 = wk3.drop([0],axis=0)\n",
    "wk3.to_clipboard(index=False, header=None)\n",
    "\n",
    "# print('총 반려된 건',end=':') \n",
    "# print(rejected)\n",
    "\n"
   ]
  },
  {
   "cell_type": "code",
   "execution_count": null,
   "metadata": {},
   "outputs": [],
   "source": []
  },
  {
   "cell_type": "code",
   "execution_count": null,
   "metadata": {},
   "outputs": [],
   "source": []
  }
 ],
 "metadata": {
  "kernelspec": {
   "display_name": "Python 3",
   "language": "python",
   "name": "python3"
  },
  "language_info": {
   "codemirror_mode": {
    "name": "ipython",
    "version": 3
   },
   "file_extension": ".py",
   "mimetype": "text/x-python",
   "name": "python",
   "nbconvert_exporter": "python",
   "pygments_lexer": "ipython3",
   "version": "3.7.6"
  }
 },
 "nbformat": 4,
 "nbformat_minor": 2
}
