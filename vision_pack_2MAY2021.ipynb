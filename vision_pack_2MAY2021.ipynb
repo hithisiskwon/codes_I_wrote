{
 "cells": [
  {
   "cell_type": "code",
   "execution_count": 58,
   "metadata": {},
   "outputs": [],
   "source": [
    "### 이퀄사인 오른쪽에 파일명 적기 (pdf, ai 확장자 확인)\n",
    "file_name = '45.pdf'\n",
    "\n",
    "from pdf2image import convert_from_path \n",
    "pages = convert_from_path(file_name) \n",
    "for i, page in enumerate(pages): \n",
    "    page.save(file_name+str(i+1)+\".jpg\", \"JPEG\")\n",
    "    \n",
    "import os,io\n",
    "import pandas as pd\n",
    "from google.cloud import vision_v1\n",
    "\n",
    "os.environ['GOOGLE_APPLICATION_CREDENTIALS'] = r'KYU.json'\n",
    "\n",
    "from google.cloud import vision_v1\n",
    "client = vision_v1.ImageAnnotatorClient()\n",
    "### ai파일 장수가 여러개일때 -> 마지막 .jpg 앞에 몇번째장 볼껀지 숫자 기입\n",
    "\n",
    "file_name = file_name+\"1.jpg\"\n",
    "\n",
    "with io.open(file_name, 'rb') as image_file:\n",
    "    content = image_file.read()\n",
    "\n",
    "image = vision_v1.Image(content=content)\n",
    "\n",
    "response = client.text_detection(image=image)\n",
    "texts = response.text_annotations\n",
    "df = pd.DataFrame()\n",
    "\n",
    "for text in texts:\n",
    "    df = df.append(\n",
    "    dict(description = text.description), ignore_index = True\n",
    "    )\n",
    "\n",
    "strings = df['description'][0]    \n",
    "strings = strings.replace('\\n', '')\n",
    "    "
   ]
  },
  {
   "cell_type": "code",
   "execution_count": 59,
   "metadata": {
    "scrolled": false
   },
   "outputs": [
    {
     "name": "stdout",
     "output_type": "stream",
     "text": [
      "-----정보표시면 끝-----\n",
      "-----섭취시주의사항 끝-----\n",
      "-----혼합제제 끝-----\n",
      "-----명칭용도 끝-----\n",
      "나트륨 단위: 0 mg(0 %)\n",
      "---↓아래 셀로↓---\n"
     ]
    }
   ],
   "source": [
    "positive_list = ['보관','섭취량','주의사항','157','질병','재질']\n",
    "\n",
    "epa_caution_list = ['의약품', '피부', '전문가']\n",
    "lutein_caution_list = ['황색']\n",
    "zea_caution_list = ['황색', '임산부']\n",
    "ginko_caution_list = ['임산부','수유부','어린이','수술','항응']\n",
    "asta_caution_list = ['황색', '카로틴']\n",
    "phos_caution_list = ['수유', '위장', '불면증']\n",
    "prob_caution_list = ['전문가', '알레르기', '어린이', '사례']\n",
    "ginseng_caution_list = ['당뇨']\n",
    "milk_caution_list = ['중단','위통']\n",
    "nato_caution_list = ['대두','임산부','응고제', '수술']\n",
    "d_caution_list = ['고칼슘', '사례']\n",
    "decursin_caution_list = ['속쓰림', '응고']\n",
    "chaz_caution_list = ['임산부', '수유부', '알레르기', '사례']\n",
    "empty_caution_list = []\n",
    "lutein_asta_caution_list = lutein_caution_list + asta_caution_list\n",
    "\n",
    "\n",
    "ingredients_purpose_list = ['사카린나트륨', '아스파탐', '글리실리진산이나트륨', '수크랄로스'\n",
    ", '아세설팜칼륨', '식용색소', '클로로필린','삼이산화철','이산화티타늄','수용성안나토',\n",
    "'카민', '소브산', '안식향', '파라옥시안',  '프로피온산', '디부틸히드록시톨루엔',\n",
    "'부틸히드록시아니졸','몰식자산프로필','에리토브산','에리토브산나트륨','아스코르빌스테아레이트',\n",
    "'아황산나', '아황산칼', '수아황산' '차아염소산', '질산나',  '카페인', '글루타민산나트륨']\n",
    "\n",
    "# 정보표시면 확인\n",
    "for n, s in enumerate(positive_list):\n",
    "    if s not in strings:\n",
    "        print(s)\n",
    "\n",
    "if '제조원' not in strings:\n",
    "    if '제조업소' not in strings:\n",
    "            if '제조자' not in strings:\n",
    "                if '제조업체' not in strings:\n",
    "                    print('제조원')\n",
    "                    \n",
    "if '유통기한' not in strings:\n",
    "    if 'EXP' not in strings:\n",
    "            print('유통기한')\n",
    "\n",
    "if 'kca' not in strings:\n",
    "    if 'Kca' not in strings:\n",
    "            print('영양정보')            \n",
    "\n",
    "if '원료명' not in strings:\n",
    "    if '원재료명' not in strings:\n",
    "            print('원재료명')                 \n",
    "            \n",
    "if '설명서' in strings:\n",
    "    print('*설명서 있음')   \n",
    "print('-----정보표시면 끝-----')\n",
    "\n",
    "# 섭취시주의사항 확인        \n",
    "for n, s in enumerate(empty_caution_list + ginseng_caution_list):\n",
    "    if s not in strings:\n",
    "        print(s + '(섭취 주의사항)')   \n",
    "print('-----섭취시주의사항 끝-----')\n",
    "               \n",
    "# 혼합제제 확인        \n",
    "if '합제' in strings:\n",
    "    if '합제(' or '합제 (' in strings:\n",
    "        print('no issue(혼합제제)')\n",
    "    elif '합제(' not in strings:\n",
    "        print('혼합제제 괄호')\n",
    "else:\n",
    "    print('-----혼합제제 끝-----')\n",
    "      \n",
    "# 명칭용도 함께 표시\n",
    "for n, s in enumerate(ingredients_purpose_list):\n",
    "    if s in strings:\n",
    "        print('(명칭용도)' + s )   \n",
    "print('-----명칭용도 끝-----')\n",
    "\n",
    "# 나트륨 mg인지 확인 \n",
    "print('나트륨 단위:' + strings.split('나트륨')[1].split('비율임')[0][:10]   )\n",
    "print('---↓아래 셀로↓---')"
   ]
  },
  {
   "cell_type": "code",
   "execution_count": 60,
   "metadata": {
    "scrolled": true
   },
   "outputs": [
    {
     "data": {
      "text/plain": [
       "'[표시면확대][후면 표시사항 : 10pt장평 : 90%이상, 자간 : -5이상제품명홍삼 바이알 내용량 25mL x 10병(250 mL)제품명홍삼정내용량 240g제품명 홍삼내용량 10mLx 30포(300 mL)콜마비앤에이치(주) 음성공장 /충북 음성군 대소면 대풍산단1길 8유통전문 (주)이마트 / 02-380-5678 /콜마비앤에이치(주) 음성공장 /충북 음성군 대소면 대풍산단1길 8유통전문(주)이마트 / 02-380-5678 /판매원 서울특별시 성동구 뚝섬로 377(성수동2가)내포장재질 폴리프로필렌(PP) 유통기한 밑면 표기일까지홍삼농축액(국산, 6년근, 진세노사이드 Rg1,원료명 Rb1 및 Rg 3의 합 15 mg/g, 홍삼근 70 %,및 함량 홍미삼 30%), 정제수, 이소말토, 올리고당,사양벌꿀, 로커스트콩검제조원제조원(주)휴온스네이처 2공장 /제조원충남 금산군 금성면 잔실길 71유통전문 (주)이마트 / 02-380-5678 /판매원서울특별시 성동구 뚝섬로 377(성수동2가)판매원서울특별시 성동구 뚝섬로 377(성수동2가)내포장재질 용기-PP, 뚜껑-HDPE유통기한 밑면 표기일까지내포장재질 유리(병), LDPE(뚜껑)유통기한 밑면 표기일까지홍삼농축액(국산, 6년근, 진세노사이드 Rg1,홍삼농축액[6년근, 국산, 진세노사이드 Rg1,Rb1 및 Rg3의 합 7.5 mg/g, 고형분60 % ※원료삼배합비율 : 홍삼근 70 %, 홍미삼 30 %]100 %원료명및 함량Rb1 및 Rg3의 합 15 mg/g, 홍삼근 70%,홍미삼 30 %), 정제수원료명및 함량섭취량 및섭취방법·섭취시 주의사항:특이체질, 알레르기 체질의 경우에는 개인에따라 과민반응을 나타낼 수 있으므로 원료를 확인한 후 섭취하십시오. 의약품(당뇨치료제, 혈액항응고제) 복용 시 섭취에 주의하십시오. 제품 개봉 또는 섭취 시 포장재에 의해 상처를 입을 위험이 있고, 내용물이 흘러나올 수 있으므로 취급 시 주의하십시오. 홍삼성분에 의한 침전물이 생기는 경우가 있으나 제품의 품질 및 기능에는 이상이 없으므로 안심하고 잘 흔들어 섭취하십시오. 유통기한이 경과된 제품은 섭취하지 마십시오. 보관방법:습기가 적고 직사광선을 받지 않는 실온에 보관하시고, 어린이의손에 닿지 않도록 주의하시기 바랍니다. 본 제품은 살균제품입니다. ·이상사례 신고는 1577-2488 본 제품은 질병의 예방 및 치료를 위한 의약품이 아닌 건강기능식품입니다. ·본 제품은 알류(달걀), 우유, 메밀, 땅콩, 대두, 밀, 고등어, 게, 새 우, 돼지고기,복숭아, 토마토, 호두, 쇠고기, 오징어, 조개류(굴, 홍합 포함)를사용한 제품과 같은 제조시설에서 제조하였습니다. ·본 제품은공정거래위원회 고시 소비자분쟁해결기준에 의거 교환 또는보상받을 수 있습니다. 반품 및 교환장소:구입체[건강기능식품 이력추적관리번호]8809668705492 + 제조번호 5자리(내부 케이스 참조)영양·기능정보1일 섭취량 당 함량 : 열량 0 kcal, 탄수화물 0 g(0 %),당류 0 g, 단백질 0 g(0 %), 지방 0 g(0 %), 나트륨 0 mg(0 %), 진세노사이드 Rg1, Rb1 및 Rg3의 합 16.5mg※()안의 수치는 1일 영양성분기준치에 대한 비율임섭취량 및섭취방법·섭취시 주의사항:특이체질, 알레르기 체질의 경우에는 개인에따라 과민반응을 나타낼 수 있으므로 원료를 확인한 후 섭취하십시오. 의약품(당뇨치료제, 혈액항응고제) 복용 시 섭취에 주의하십시오. 제품 개봉 또는 섭취 시 포장재에 의해 상처를 입을 위험이 있고, 내용물이 흘러나올 수 있으므로 취급 시 주의하십시오.홍삼성분에 의한 침전물이 생기는 경우가 있으나 제품의 품질 및기능에는 이상이 없으므로 안심하고 잘 흔들어 섭취하십시오. 유통기한이 경과된 제품은 섭취하지 마십시오. ·보관방법:습기가|적고 직사광선을 받지 않는 실온에 보관하시고, 어린이의 손에닿지 않도록 주의하시기 바랍니다. ·본 제품은 살균제품입니다.·이상 사례 신고는 1577-2488 ·본 제품은 질병의 예방 및 치료를 위한 의약품이 아닌 건강기능식품입니다. ·본 제품은 알류(달갈), 우유, 메밀, 땅콩, 대두, 밀, 고등어, 게, 새우, 돼지고기, 복숭아, 토마토, 호두, 쇠고기, 오징어, 조개류(굴, 홍합 포함)를 사용한 제품과 같은 제조시설에서 제조하였습니다. ·본 제품은 공정거래위원회 고시 소비자분쟁해결기준에 의거 교환 또는 보상받을 수 있습니다. ·반품 및 교환장소:구입처[건강기능식품 이력추적관리 번호]8809668704495 + 제조번호 5자리(내부 케이스 참조)1일 1회, 1회 1병을 섭취하십시오.1일 1회, 1회 1포를 섭취하십시오.섭취량 및섭취방법1일 1회, 1회 1스푼(3 g)를 섭취하십시오.·섭취시 주의사항:의약품(당뇨치료제, 혈액항응고제) 복용 시 섭취에 주의하십시오. 특이체질, 알레르기 체질이신 분은 성분을확인 후 섭취하시기 바랍니다. ·보관시 주의사항:직사광선을 피하고 서늘한 곳에 보관하여 주시고, 개봉 후에는 변질될 수 있으니 바로 드십시오. 영·유아의 손이 닿지 않는 곳에 보관하십시오.·본 제품은 알류(가금류), 우유, 메밀, 땅콩, 대두, 밀, 고등어, 게,새우, 돼지고기, 복숭아, 토마토, 아황산류, 호두, 닭고기, 쇠고기,오징어, 조개류(굴, 전복, 홍합 포함), 잣을 사용한 제품과 같은시설에서 제조하고 있습니다. ·유통과정 중 변질되거나 파손된제품은 소비자분쟁 해결기준에 의거 교환 또는 환불받으실 수 있습니다. ·본 제품은 질병의 예방 및 치료를 위한 의약품이 아닌건강기능식품입니다. 이상 사례 신고는 1577-2488 ·반품 및교환처:판매원 및 구입처[건강기능식품 이력추적관리번호]8809203076957 + 유통기한 8자리영양·기능정보1일 섭취량 당 함량 : 열량 10 kcal, 탄수화물 2 g(1%), 당류 1g(1%), 단백질 0 g(0 %), 지방 0 g(0 %), 나트륨 0 mg(0 %),진세노사이드 Rg1, Rb1 및 Rg3의 합 22.5 mg※()안의 수치는 1일 영양성분기준치에 대한 비율임TraceabilityTraceabilityTraceability이력추적,이력추적이력추적식품의약품안전처식품의약품안전저식품의약품안전저영양·기능정보1일 섭취량 당 함량 : 열량 0 kcal, 탄수화물 0 g(0 %),당류 0g, 단백질 0 g(0 %), 지방 0 g(0 %), 나트륨 0 mg(0 %), 진세노사이드 Rg1, Rb1 및 Rg3의합7 mg※()안의 수치는 1일 영양성분기준치에 대한 비율임1일 섭취량 : 1병(25 mL)1일 섭취량 : 3g1일 섭취량 : 1병(10 mL)상단 선 굵기: 0.5 mm하단 선 굵기: 0.5 mm'"
      ]
     },
     "execution_count": 60,
     "metadata": {},
     "output_type": "execute_result"
    }
   ],
   "source": [
    "strings"
   ]
  },
  {
   "cell_type": "code",
   "execution_count": null,
   "metadata": {},
   "outputs": [],
   "source": []
  },
  {
   "cell_type": "code",
   "execution_count": null,
   "metadata": {},
   "outputs": [],
   "source": []
  },
  {
   "cell_type": "code",
   "execution_count": null,
   "metadata": {},
   "outputs": [],
   "source": []
  },
  {
   "cell_type": "code",
   "execution_count": null,
   "metadata": {},
   "outputs": [],
   "source": []
  },
  {
   "cell_type": "code",
   "execution_count": null,
   "metadata": {},
   "outputs": [],
   "source": [
    "strings.split('kcal')[1]"
   ]
  },
  {
   "cell_type": "code",
   "execution_count": null,
   "metadata": {},
   "outputs": [],
   "source": [
    "strings.split('kcal')[1].split('에 대한')[0]"
   ]
  },
  {
   "cell_type": "code",
   "execution_count": null,
   "metadata": {},
   "outputs": [],
   "source": [
    "ingrd"
   ]
  },
  {
   "cell_type": "code",
   "execution_count": null,
   "metadata": {},
   "outputs": [],
   "source": []
  }
 ],
 "metadata": {
  "kernelspec": {
   "display_name": "Python 3",
   "language": "python",
   "name": "python3"
  },
  "language_info": {
   "codemirror_mode": {
    "name": "ipython",
    "version": 3
   },
   "file_extension": ".py",
   "mimetype": "text/x-python",
   "name": "python",
   "nbconvert_exporter": "python",
   "pygments_lexer": "ipython3",
   "version": "3.7.6"
  }
 },
 "nbformat": 4,
 "nbformat_minor": 4
}
