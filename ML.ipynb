{
 "cells": [
  {
   "cell_type": "markdown",
   "metadata": {},
   "source": [
    "## Read\n"
   ]
  },
  {
   "cell_type": "code",
   "execution_count": 5,
   "metadata": {
    "scrolled": true
   },
   "outputs": [
    {
     "name": "stdout",
     "output_type": "stream",
     "text": [
      "0.7505357908272611\n"
     ]
    }
   ],
   "source": [
    "# read\n",
    "import numpy as np\n",
    "import random\n",
    "from sklearn.model_selection import train_test_split\n",
    "from sklearn.feature_extraction.text import CountVectorizer, TfidfVectorizer\n",
    "from sklearn.metrics import f1_score\n",
    "# import datetime\n",
    "import pandas as pd\n",
    "from matplotlib import pyplot as plt\n",
    "df = pd.read_excel('ml.xlsx',skiprows = range(0,2))\n",
    "\n",
    "# leave 2 columns\n",
    "cols = list(df.columns.values)\n",
    "df = df[ [cols[11]] + [cols[8]] ]\n",
    "\n",
    "#dropna\n",
    "nan_df = df[df.isna().any(axis=1)]\n",
    "df = df.dropna(how='any')\n",
    "\n",
    "X_train, X_test, y_train, y_test = train_test_split(df['ing'],df['who'], test_size = 0.2, random_state=42)\n",
    "\n",
    "X_train = [str (item) for item in X_train]\n",
    "X_test = [str (item) for item in X_test]\n",
    "    \n",
    "vect = CountVectorizer()\n",
    "# transform and fit train data\n",
    "\n",
    "# Fit and transform the train data\n",
    "X_train_vectors = vect.fit_transform(X_train)\n",
    "# transform the test data\n",
    "X_test_vectors = vect.transform(X_test)\n",
    "\n",
    "from sklearn import svm\n",
    "\n",
    "clf = svm.SVC( kernel='linear', gamma='auto')\n",
    "clf.fit(X_train_vectors, y_train)\n",
    "\n",
    "# from sklearn.tree import DecisionTreeClassifier\n",
    "\n",
    "# clf_dec = DecisionTreeClassifier()\n",
    "# clf_dec.fit(X_train_vectors, y_train)\n",
    "\n",
    "# from sklearn.ensemble import RandomForestClassifier\n",
    "\n",
    "# clf_rf = RandomForestClassifier()\n",
    "# clf_rf.fit(X_train_vectors, y_train)\n",
    "\n",
    "# from sklearn.naive_bayes import GaussianNB\n",
    "\n",
    "# gnb = GaussianNB()\n",
    "# gnb.fit(X_train_vectors.todense(), y_train)\n",
    "\n",
    "# from sklearn.model_selection import GridSearchCV\n",
    "\n",
    "# parameters = {'kernel':('linear', 'rbf'), 'gamma':['auto'], 'C':[0.1,1,8,16,32]}\n",
    "# svc = svm.SVC()\n",
    "# clf = GridSearchCV(svc, parameters, cv=5)\n",
    "# clf.fit(X_train_vectors, y_train)\n",
    "\n",
    "print(clf.score(X_test_vectors,y_test))\n",
    "# print(clf_dec.score(X_test_vectors,y_test))\n",
    "# print(clf_rf.score(X_test_vectors,y_test))\n",
    "# print(gnb.score(X_test_vectors.todense(),y_test))"
   ]
  },
  {
   "cell_type": "markdown",
   "metadata": {},
   "source": [
    "## Test"
   ]
  },
  {
   "cell_type": "code",
   "execution_count": 2,
   "metadata": {},
   "outputs": [
    {
     "data": {
      "text/plain": [
       "array(['혁신'], dtype=object)"
      ]
     },
     "execution_count": 2,
     "metadata": {},
     "output_type": "execute_result"
    }
   ],
   "source": [
    "test_set = ['프로바이오틱스, 아연']\n",
    "# test_set = [str (item) for item in test_set]\n",
    "new_test = vect.transform(test_set)\n",
    "# print(new_test)\n",
    "\n",
    "clf.predict(new_test)"
   ]
  },
  {
   "cell_type": "markdown",
   "metadata": {},
   "source": [
    "### 1st Sheet"
   ]
  },
  {
   "cell_type": "code",
   "execution_count": 4,
   "metadata": {},
   "outputs": [
    {
     "name": "stdout",
     "output_type": "stream",
     "text": [
      "클립보드에 복사되었습니다.\n"
     ]
    }
   ],
   "source": [
    "# 1st sheet\n",
    "df2 = pd.read_excel('teste.xlsx',sheet_name=0,skiprows = range(0,2))\n",
    "\n",
    "d = df2['기능성원료']\n",
    "d = [str (item) for item in d]\n",
    "dd = vect.transform(d)\n",
    "\n",
    "p=clf.predict(dd)\n",
    "df2['name'] = p\n",
    "df2 = df2.drop(0,0)\n",
    "df2['name'].to_clipboard(index=False, header=None)\n",
    "# df2.head()\n",
    "print('클립보드에 복사되었습니다.')"
   ]
  },
  {
   "cell_type": "markdown",
   "metadata": {},
   "source": [
    "### 2nd Sheet"
   ]
  },
  {
   "cell_type": "code",
   "execution_count": 34,
   "metadata": {},
   "outputs": [
    {
     "name": "stdout",
     "output_type": "stream",
     "text": [
      "클립보드에 복사되었습니다.\n"
     ]
    }
   ],
   "source": [
    "# 2nd sheet\n",
    "df2 = pd.read_excel('teste.xlsx',sheet_name=1,skiprows = range(0,2))\n",
    "\n",
    "d = df2['기능성원료']\n",
    "d = [str (item) for item in d]\n",
    "dd = vect.transform(d)\n",
    "\n",
    "p=clf.predict(dd)\n",
    "df2['name'] = p\n",
    "df2 = df2.drop(0,0)\n",
    "df2['name'].to_clipboard(index=False, header=None)\n",
    "# df2.head()\n",
    "print('클립보드에 복사되었습니다.')"
   ]
  },
  {
   "cell_type": "code",
   "execution_count": null,
   "metadata": {},
   "outputs": [],
   "source": []
  },
  {
   "cell_type": "code",
   "execution_count": null,
   "metadata": {},
   "outputs": [],
   "source": []
  },
  {
   "cell_type": "code",
   "execution_count": null,
   "metadata": {},
   "outputs": [],
   "source": []
  },
  {
   "cell_type": "code",
   "execution_count": null,
   "metadata": {},
   "outputs": [],
   "source": []
  },
  {
   "cell_type": "code",
   "execution_count": null,
   "metadata": {},
   "outputs": [],
   "source": []
  },
  {
   "cell_type": "code",
   "execution_count": null,
   "metadata": {},
   "outputs": [],
   "source": []
  },
  {
   "cell_type": "code",
   "execution_count": null,
   "metadata": {},
   "outputs": [],
   "source": [
    "# https://stackoverflow.com/questions/47094961/valueerror-x-shape1-15-should-be-equal-to-700-the-number-of-features-at-tr"
   ]
  },
  {
   "cell_type": "code",
   "execution_count": null,
   "metadata": {},
   "outputs": [],
   "source": [
    "# 하나씩 분리\n",
    "df3 = pd.concat([df['ing'].str.split(',', expand=True)], axis=1)\n",
    "df3['who'] = df['who']\n",
    "df3 = df3.astype('str').replace('None', '0', regex=True)"
   ]
  }
 ],
 "metadata": {
  "kernelspec": {
   "display_name": "Python 3",
   "language": "python",
   "name": "python3"
  },
  "language_info": {
   "codemirror_mode": {
    "name": "ipython",
    "version": 3
   },
   "file_extension": ".py",
   "mimetype": "text/x-python",
   "name": "python",
   "nbconvert_exporter": "python",
   "pygments_lexer": "ipython3",
   "version": "3.7.6"
  }
 },
 "nbformat": 4,
 "nbformat_minor": 4
}
