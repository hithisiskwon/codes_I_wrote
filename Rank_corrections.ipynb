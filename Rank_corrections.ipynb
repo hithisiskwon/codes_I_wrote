{
 "cells": [
  {
   "cell_type": "code",
   "execution_count": 1,
   "metadata": {},
   "outputs": [],
   "source": [
    "# 불러오기\n",
    "import pandas as pd\n",
    "df = pd.read_excel('2years.xlsx',skiprows = range(0,2))\n",
    "df = df.loc[~(df['매체']=='패키지(표시포함)')]\n",
    "# 참고사항 앞쪽만 split 하기\n",
    "df['data'] = df['결과내용'].str.split('[').str[0]\n",
    "\n",
    "# 특정원료\n",
    "i_list = ['프로바이오틱스', '홍삼','EPA 및 DHA 함유 유지',\n",
    "        '가르시니아캄보지아추출물','마리골드꽃추출물',  \n",
    "        '밀크씨슬추출물' ,'프로폴리스추출물','디메틸설폰(MSM)']\n",
    "\n",
    "idf = {}\n",
    "for i in i_list:\n",
    "    idf[i] = df[df['기능성원료']==i]\n",
    "    \n",
    "# final = pd.concat(x.values())\n",
    "\n"
   ]
  },
  {
   "cell_type": "code",
   "execution_count": 2,
   "metadata": {},
   "outputs": [],
   "source": [
    "import re\n",
    "from collections import Counter\n",
    "\n",
    "\n",
    "def clean_text(text):\n",
    "    '''Get rid of some additional punctuation and non-sensical text that was missed the first time around.'''\n",
    "    text = re.sub('[‘’“”…]', '', text)\n",
    "    text = re.sub('\\n', '', text)\n",
    "    text = re.sub(r'>(.*?)0', '', text)\n",
    "    text = re.sub(r'>(.*?)\\r\\r', '', text)\n",
    "    text = re.sub(r'0 ', '', text)\n",
    "    text = re.sub(r'※ ', '', text)\n",
    "    text = re.sub(r'\\r', '', text)\n",
    "    text = re.sub(r'/', '', text)\n",
    "    text = re.sub(r'인체시험의 특정수치를(.*?)kg으로 변환할 것', '', text)\n",
    "    text = re.sub(r'인체적용시험 결과를 인용하여 표현하는 경우(.*?)figure와 함께 인용됐을 경우 글자크기는 같거나 작게 광고할 것', '', text)              \n",
    "    text = re.sub(r'인체적용시험 결과를 인용하여 표현하는 경우', '', text)\n",
    "    text = re.sub(r' ', '', text)\n",
    "    text = re.sub(r'인터넷(.*?)전화번호를 함께 광고할 것', '', text)\n",
    "    text = re.sub(r'제조업소명(.*?)내용을포함할것', '', text)\n",
    "    text = re.sub(r'건강정보와(.*?)명시할것', '', text)\n",
    "    text = re.sub(r'1위', '', text)\n",
    "    text = re.sub(r'19', '', text)\n",
    "    text = re.sub(r'.루테인', '', text)\n",
    "    text = re.sub(r'이미지', '', text)\n",
    "    return text\n",
    "\n",
    "fnctn = lambda x: clean_text(str(x))"
   ]
  },
  {
   "cell_type": "code",
   "execution_count": 3,
   "metadata": {},
   "outputs": [],
   "source": [
    "data_clean = {}\n",
    "data_strip = {}\n",
    "result = {}\n",
    "rdf = {}\n",
    "\n",
    "for j in i_list:\n",
    "    # apply function to dataframe\n",
    "    data_clean[j] = pd.DataFrame(idf[j].data.apply(fnctn))\n",
    "    # convert dataframe to long string\n",
    "    data_strip[j] = data_clean[j]['data'].str.cat(sep= '')\n",
    "    # split long string to big list\n",
    "    data_strip[j] = re.split(r'-+', data_strip[j]) #sentdex\n",
    "    # count most common words from the big list\n",
    "    result[j] = Counter(data_strip[j]).most_common()\n",
    "    # create dataframe with list\n",
    "    rdf[j] = pd.DataFrame(result[j], columns=['수정삭제','개수'])\n",
    "    # extract only top 20\n",
    "    rdf[j] = rdf[j].iloc[0:20]\n",
    "    rdf[j].drop(columns=['개수'], inplace = True)\n",
    "    rdf[j].index = rdf[j].index + 1\n",
    "    "
   ]
  },
  {
   "cell_type": "code",
   "execution_count": 4,
   "metadata": {},
   "outputs": [],
   "source": [
    "fdf = pd.DataFrame()\n",
    "fdf['프로바이오틱스'] = rdf['프로바이오틱스']['수정삭제']\n",
    "fdf['홍삼'] = rdf['홍삼']['수정삭제']\n",
    "fdf['EPA 및 DHA 함유 유지'] = rdf['EPA 및 DHA 함유 유지']['수정삭제']\n",
    "fdf['가르시니아캄보지아추출물'] = rdf['가르시니아캄보지아추출물']['수정삭제']\n",
    "fdf['마리골드꽃추출물'] = rdf['마리골드꽃추출물']['수정삭제']\n",
    "# fdf['밀크씨슬추출물'] = rdf['밀크씨슬추출물']['수정삭제']\n",
    "fdf['프로폴리스추출물'] = rdf['프로폴리스추출물']['수정삭제']\n",
    "fdf['디메틸설폰(MSM)'] = rdf['디메틸설폰(MSM)']['수정삭제']\n"
   ]
  },
  {
   "cell_type": "code",
   "execution_count": null,
   "metadata": {},
   "outputs": [],
   "source": []
  },
  {
   "cell_type": "code",
   "execution_count": null,
   "metadata": {},
   "outputs": [],
   "source": []
  },
  {
   "cell_type": "raw",
   "metadata": {},
   "source": []
  }
 ],
 "metadata": {
  "kernelspec": {
   "display_name": "Python 3",
   "language": "python",
   "name": "python3"
  },
  "language_info": {
   "codemirror_mode": {
    "name": "ipython",
    "version": 3
   },
   "file_extension": ".py",
   "mimetype": "text/x-python",
   "name": "python",
   "nbconvert_exporter": "python",
   "pygments_lexer": "ipython3",
   "version": "3.7.6"
  }
 },
 "nbformat": 4,
 "nbformat_minor": 4
}
