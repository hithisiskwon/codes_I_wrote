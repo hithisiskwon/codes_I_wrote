{
 "cells": [
  {
   "cell_type": "markdown",
   "metadata": {},
   "source": [
    "#### 모듈 import, 금지어와 OCR에서 읽은 단어+좌표 생성"
   ]
  },
  {
   "cell_type": "code",
   "execution_count": 63,
   "metadata": {},
   "outputs": [],
   "source": [
    "import itertools\n",
    "\n",
    "ban_word = ['인공눈물']\n",
    "words_from_ocr = {'인공':'100', '눈물':'150', '건강':'200', '사망':'250'}"
   ]
  },
  {
   "cell_type": "markdown",
   "metadata": {},
   "source": [
    "#### OCR에서 읽은 단어들 조합"
   ]
  },
  {
   "cell_type": "code",
   "execution_count": 64,
   "metadata": {},
   "outputs": [],
   "source": [
    "list_permutations = []\n",
    "\n",
    "for i in range(len(words_from_ocr)):\n",
    "    list_permutations.append(itertools.permutations(words_from_ocr,i)) "
   ]
  },
  {
   "cell_type": "code",
   "execution_count": 60,
   "metadata": {
    "scrolled": true
   },
   "outputs": [
    {
     "name": "stdout",
     "output_type": "stream",
     "text": [
      "()\n",
      "('인공',)\n",
      "('눈물',)\n",
      "('건강',)\n",
      "('사망',)\n",
      "('인공', '눈물')\n",
      "('인공', '건강')\n",
      "('인공', '사망')\n",
      "('눈물', '인공')\n",
      "('눈물', '건강')\n",
      "('눈물', '사망')\n",
      "('건강', '인공')\n",
      "('건강', '눈물')\n",
      "('건강', '사망')\n",
      "('사망', '인공')\n",
      "('사망', '눈물')\n",
      "('사망', '건강')\n",
      "('인공', '눈물', '건강')\n",
      "('인공', '눈물', '사망')\n",
      "('인공', '건강', '눈물')\n",
      "('인공', '건강', '사망')\n",
      "('인공', '사망', '눈물')\n",
      "('인공', '사망', '건강')\n",
      "('눈물', '인공', '건강')\n",
      "('눈물', '인공', '사망')\n",
      "('눈물', '건강', '인공')\n",
      "('눈물', '건강', '사망')\n",
      "('눈물', '사망', '인공')\n",
      "('눈물', '사망', '건강')\n",
      "('건강', '인공', '눈물')\n",
      "('건강', '인공', '사망')\n",
      "('건강', '눈물', '인공')\n",
      "('건강', '눈물', '사망')\n",
      "('건강', '사망', '인공')\n",
      "('건강', '사망', '눈물')\n",
      "('사망', '인공', '눈물')\n",
      "('사망', '인공', '건강')\n",
      "('사망', '눈물', '인공')\n",
      "('사망', '눈물', '건강')\n",
      "('사망', '건강', '인공')\n",
      "('사망', '건강', '눈물')\n"
     ]
    }
   ],
   "source": [
    "# 출력해보면\n",
    "for perobj in list_permutations:\n",
    "    for item in perobj:\n",
    "        print(item)"
   ]
  },
  {
   "cell_type": "markdown",
   "metadata": {},
   "source": [
    "#### 조합된 단어에서 금지어 있는지 확인"
   ]
  },
  {
   "cell_type": "code",
   "execution_count": 65,
   "metadata": {
    "scrolled": true
   },
   "outputs": [
    {
     "data": {
      "text/plain": [
       "['인공눈물']"
      ]
     },
     "execution_count": 65,
     "metadata": {},
     "output_type": "execute_result"
    }
   ],
   "source": [
    "list_detected = []\n",
    "for x in list_permutations:\n",
    "    for p in x:\n",
    "        if ''.join(p) in ban_word:\n",
    "            list_detected.append(''.join(p))\n",
    "            \n",
    "list_detected            "
   ]
  },
  {
   "cell_type": "markdown",
   "metadata": {},
   "source": [
    "#### 발견된 금지어의 좌표 출력"
   ]
  },
  {
   "cell_type": "code",
   "execution_count": 66,
   "metadata": {},
   "outputs": [
    {
     "name": "stdout",
     "output_type": "stream",
     "text": [
      "인공 100\n",
      "눈물 150\n"
     ]
    }
   ],
   "source": [
    "for d in words_from_ocr:\n",
    "    if d in ''.join(list_detected):\n",
    "        print(d +' '+ words_from_ocr[d])"
   ]
  },
  {
   "cell_type": "code",
   "execution_count": null,
   "metadata": {},
   "outputs": [],
   "source": []
  },
  {
   "cell_type": "code",
   "execution_count": null,
   "metadata": {},
   "outputs": [],
   "source": []
  },
  {
   "cell_type": "code",
   "execution_count": null,
   "metadata": {},
   "outputs": [],
   "source": []
  }
 ],
 "metadata": {
  "kernelspec": {
   "display_name": "Python 3",
   "language": "python",
   "name": "python3"
  },
  "language_info": {
   "codemirror_mode": {
    "name": "ipython",
    "version": 3
   },
   "file_extension": ".py",
   "mimetype": "text/x-python",
   "name": "python",
   "nbconvert_exporter": "python",
   "pygments_lexer": "ipython3",
   "version": "3.7.6"
  }
 },
 "nbformat": 4,
 "nbformat_minor": 4
}
